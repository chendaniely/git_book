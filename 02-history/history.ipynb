{
 "cells": [
  {
   "cell_type": "code",
   "execution_count": 2,
   "metadata": {},
   "outputs": [
    {
     "name": "stdout",
     "output_type": "stream",
     "text": [
      "Starting working directory\n",
      "/root/git/hub/git_book/02-history\n",
      "Git book example directory:\n",
      "/root/git/hub/git_book_example\n",
      "Current working diretory:\n",
      "/root/git/hub/git_book_example\n"
     ]
    }
   ],
   "source": [
    "source ../01-chapter_setup.sh"
   ]
  },
  {
   "cell_type": "markdown",
   "metadata": {},
   "source": [
    "# Diff\n",
    "\n",
    "we can use the `git diff <file>` to look at the difference between what we currently have and what our last commit is.\n",
    "\n",
    "Let's first add another line to our `README.md` to define `diff`"
   ]
  },
  {
   "cell_type": "code",
   "execution_count": 40,
   "metadata": {},
   "outputs": [
    {
     "name": "stdout",
     "output_type": "stream",
     "text": [
      "- `diff`: look at the differences between commits\n"
     ]
    }
   ],
   "source": [
    "cat $git_book_src_directory/02-history/01-diff_definition.txt"
   ]
  },
  {
   "cell_type": "code",
   "execution_count": 5,
   "metadata": {},
   "outputs": [],
   "source": [
    "cat $git_book_src_directory/02-history/01-diff_definition.txt >> README.md"
   ]
  },
  {
   "cell_type": "code",
   "execution_count": 6,
   "metadata": {},
   "outputs": [
    {
     "name": "stdout",
     "output_type": "stream",
     "text": [
      "On branch master\n",
      "Changes not staged for commit:\n",
      "  (use \"git add <file>...\" to update what will be committed)\n",
      "  (use \"git checkout -- <file>...\" to discard changes in working directory)\n",
      "\n",
      "\t\u001b[31mmodified:   README.md\u001b[m\n",
      "\n",
      "no changes added to commit (use \"git add\" and/or \"git commit -a\")\n"
     ]
    }
   ],
   "source": [
    "git status"
   ]
  },
  {
   "cell_type": "code",
   "execution_count": 7,
   "metadata": {},
   "outputs": [
    {
     "name": "stdout",
     "output_type": "stream",
     "text": [
      "\u001b[1mdiff --git a/README.md b/README.md\u001b[m\n",
      "\u001b[1mindex 645813d..550da4d 100644\u001b[m\n",
      "\u001b[1m--- a/README.md\u001b[m\n",
      "\u001b[1m+++ b/README.md\u001b[m\n",
      "\u001b[36m@@ -4,3 +4,4 @@\u001b[m\n",
      " - `status`: look at the status of the repository\u001b[m\n",
      " - `add`: add files to staging area\u001b[m\n",
      " - `commit`: commit files from staging area\u001b[m\n",
      "\u001b[32m+\u001b[m\u001b[32m- `diff`: look at the differences between commits\u001b[m\n"
     ]
    }
   ],
   "source": [
    "git diff README.md"
   ]
  },
  {
   "cell_type": "markdown",
   "metadata": {},
   "source": [
    "If we made multiple changes to multiple files we can see all of the diffs for the entire repository by leaving out the filename."
   ]
  },
  {
   "cell_type": "code",
   "execution_count": 8,
   "metadata": {},
   "outputs": [
    {
     "name": "stdout",
     "output_type": "stream",
     "text": [
      "\u001b[1mdiff --git a/README.md b/README.md\u001b[m\n",
      "\u001b[1mindex 645813d..550da4d 100644\u001b[m\n",
      "\u001b[1m--- a/README.md\u001b[m\n",
      "\u001b[1m+++ b/README.md\u001b[m\n",
      "\u001b[36m@@ -4,3 +4,4 @@\u001b[m\n",
      " - `status`: look at the status of the repository\u001b[m\n",
      " - `add`: add files to staging area\u001b[m\n",
      " - `commit`: commit files from staging area\u001b[m\n",
      "\u001b[32m+\u001b[m\u001b[32m- `diff`: look at the differences between commits\u001b[m\n"
     ]
    }
   ],
   "source": [
    "git diff"
   ]
  },
  {
   "cell_type": "markdown",
   "metadata": {},
   "source": [
    "Add to the staging area (but don't commit it yet)"
   ]
  },
  {
   "cell_type": "markdown",
   "metadata": {},
   "source": [
    "# Diff staging area"
   ]
  },
  {
   "cell_type": "code",
   "execution_count": 9,
   "metadata": {},
   "outputs": [],
   "source": [
    "git add README.md"
   ]
  },
  {
   "cell_type": "code",
   "execution_count": 10,
   "metadata": {},
   "outputs": [],
   "source": [
    "git diff"
   ]
  },
  {
   "cell_type": "markdown",
   "metadata": {},
   "source": [
    "need to put in the staged flag if things are in the staging area"
   ]
  },
  {
   "cell_type": "code",
   "execution_count": 11,
   "metadata": {},
   "outputs": [
    {
     "name": "stdout",
     "output_type": "stream",
     "text": [
      "\u001b[1mdiff --git a/README.md b/README.md\u001b[m\n",
      "\u001b[1mindex 645813d..550da4d 100644\u001b[m\n",
      "\u001b[1m--- a/README.md\u001b[m\n",
      "\u001b[1m+++ b/README.md\u001b[m\n",
      "\u001b[36m@@ -4,3 +4,4 @@\u001b[m\n",
      " - `status`: look at the status of the repository\u001b[m\n",
      " - `add`: add files to staging area\u001b[m\n",
      " - `commit`: commit files from staging area\u001b[m\n",
      "\u001b[32m+\u001b[m\u001b[32m- `diff`: look at the differences between commits\u001b[m\n"
     ]
    }
   ],
   "source": [
    "git diff --staged README.md"
   ]
  },
  {
   "cell_type": "code",
   "execution_count": 12,
   "metadata": {},
   "outputs": [
    {
     "name": "stdout",
     "output_type": "stream",
     "text": [
      "\u001b[1mdiff --git a/README.md b/README.md\u001b[m\n",
      "\u001b[1mindex 645813d..550da4d 100644\u001b[m\n",
      "\u001b[1m--- a/README.md\u001b[m\n",
      "\u001b[1m+++ b/README.md\u001b[m\n",
      "\u001b[36m@@ -4,3 +4,4 @@\u001b[m\n",
      " - `status`: look at the status of the repository\u001b[m\n",
      " - `add`: add files to staging area\u001b[m\n",
      " - `commit`: commit files from staging area\u001b[m\n",
      "\u001b[32m+\u001b[m\u001b[32m- `diff`: look at the differences between commits\u001b[m\n"
     ]
    }
   ],
   "source": [
    "git diff --staged"
   ]
  },
  {
   "cell_type": "code",
   "execution_count": 14,
   "metadata": {},
   "outputs": [
    {
     "name": "stdout",
     "output_type": "stream",
     "text": [
      "[master 0c02e4b] git diff\n",
      " 1 file changed, 1 insertion(+)\n"
     ]
    }
   ],
   "source": [
    "git commit -m \"git diff\""
   ]
  },
  {
   "cell_type": "code",
   "execution_count": 15,
   "metadata": {},
   "outputs": [
    {
     "name": "stdout",
     "output_type": "stream",
     "text": [
      "On branch master\n",
      "nothing to commit, working tree clean\n"
     ]
    }
   ],
   "source": [
    "git status"
   ]
  },
  {
   "cell_type": "markdown",
   "metadata": {},
   "source": [
    "# Diff relative"
   ]
  },
  {
   "cell_type": "code",
   "execution_count": 16,
   "metadata": {},
   "outputs": [
    {
     "name": "stdout",
     "output_type": "stream",
     "text": [
      "\u001b[33mcommit 0c02e4b5870b85fb1a911c493d8850aa0d46a6a1\u001b[m\u001b[33m (\u001b[m\u001b[1;36mHEAD -> \u001b[m\u001b[1;32mmaster\u001b[m\u001b[33m)\u001b[m\n",
      "Author: Daniel Chen <chendaniely@gmail.com>\n",
      "Date:   Tue Dec 10 23:41:35 2019 -0500\n",
      "\n",
      "    git diff\n",
      "\n",
      "\u001b[33mcommit 06170bcc2d1c57dd23c0d6581150235f660f8e2c\u001b[m\n",
      "Author: Daniel Chen <chendaniely@gmail.com>\n",
      "Date:   Tue Dec 10 23:07:06 2019 -0500\n",
      "\n",
      "    notes for add and commit\n",
      "\n",
      "\u001b[33mcommit 0dc718ea19699f2c94425e643c7a9923c976c8b9\u001b[m\n",
      "Author: Daniel Chen <chendaniely@gmail.com>\n",
      "Date:   Tue Dec 10 23:07:05 2019 -0500\n",
      "\n",
      "    First commit showing init and status\n"
     ]
    }
   ],
   "source": [
    "git log"
   ]
  },
  {
   "cell_type": "markdown",
   "metadata": {},
   "source": [
    "if you end up on a very zoomed terminal.\n",
    "Or if there are a lot of commits in your history you'll be able to scroll up and down.\n",
    "On the bottom left corner you may see a colon, `:`.\n",
    "This scrolling ability is in a program called `less`.\n",
    "To exit out of `less` press the `q` key on your keyboard."
   ]
  },
  {
   "cell_type": "code",
   "execution_count": 17,
   "metadata": {},
   "outputs": [
    {
     "name": "stdout",
     "output_type": "stream",
     "text": [
      "\u001b[33m0c02e4b\u001b[m\u001b[33m (\u001b[m\u001b[1;36mHEAD -> \u001b[m\u001b[1;32mmaster\u001b[m\u001b[33m)\u001b[m git diff\n",
      "\u001b[33m06170bc\u001b[m notes for add and commit\n",
      "\u001b[33m0dc718e\u001b[m First commit showing init and status\n"
     ]
    }
   ],
   "source": [
    "git log --oneline"
   ]
  },
  {
   "cell_type": "markdown",
   "metadata": {},
   "source": [
    "`HEAD` points to where we currently are,\n",
    "right now we see that we are on the master branch (`->`)\n",
    "and which commit we are on."
   ]
  },
  {
   "cell_type": "markdown",
   "metadata": {},
   "source": [
    "can use relative positions from where we currently are to look at diffs"
   ]
  },
  {
   "cell_type": "code",
   "execution_count": 18,
   "metadata": {},
   "outputs": [
    {
     "name": "stdout",
     "output_type": "stream",
     "text": [
      "\u001b[1mdiff --git a/README.md b/README.md\u001b[m\n",
      "\u001b[1mindex 645813d..550da4d 100644\u001b[m\n",
      "\u001b[1m--- a/README.md\u001b[m\n",
      "\u001b[1m+++ b/README.md\u001b[m\n",
      "\u001b[36m@@ -4,3 +4,4 @@\u001b[m\n",
      " - `status`: look at the status of the repository\u001b[m\n",
      " - `add`: add files to staging area\u001b[m\n",
      " - `commit`: commit files from staging area\u001b[m\n",
      "\u001b[32m+\u001b[m\u001b[32m- `diff`: look at the differences between commits\u001b[m\n"
     ]
    }
   ],
   "source": [
    "git diff HEAD~1 README.md"
   ]
  },
  {
   "cell_type": "code",
   "execution_count": 19,
   "metadata": {},
   "outputs": [
    {
     "name": "stdout",
     "output_type": "stream",
     "text": [
      "\u001b[1mdiff --git a/README.md b/README.md\u001b[m\n",
      "\u001b[1mindex 6c152b7..550da4d 100644\u001b[m\n",
      "\u001b[1m--- a/README.md\u001b[m\n",
      "\u001b[1m+++ b/README.md\u001b[m\n",
      "\u001b[36m@@ -2,3 +2,6 @@\u001b[m\n",
      " \u001b[m\n",
      " - `init`: initialize a git repository at the current working directory\u001b[m\n",
      " - `status`: look at the status of the repository\u001b[m\n",
      "\u001b[32m+\u001b[m\u001b[32m- `add`: add files to staging area\u001b[m\n",
      "\u001b[32m+\u001b[m\u001b[32m- `commit`: commit files from staging area\u001b[m\n",
      "\u001b[32m+\u001b[m\u001b[32m- `diff`: look at the differences between commits\u001b[m\n"
     ]
    }
   ],
   "source": [
    "git diff HEAD~2 README.md"
   ]
  },
  {
   "cell_type": "markdown",
   "metadata": {},
   "source": [
    "Sometimes counting backwards from `HEAD` is not feasiable.\n",
    "That's where the commit hash comes in.\n",
    "We can use the full hash, or just the first 7 characters provided by `git log --oneline`"
   ]
  },
  {
   "cell_type": "markdown",
   "metadata": {},
   "source": [
    "Here's the reference to our first commit"
   ]
  },
  {
   "cell_type": "code",
   "execution_count": 27,
   "metadata": {},
   "outputs": [
    {
     "name": "stdout",
     "output_type": "stream",
     "text": [
      "0dc718e\n"
     ]
    }
   ],
   "source": [
    "temp_git_hash=`git rev-parse HEAD~2`\n",
    "echo ${temp_git_hash:0:7}"
   ]
  },
  {
   "cell_type": "code",
   "execution_count": 31,
   "metadata": {},
   "outputs": [
    {
     "name": "stdout",
     "output_type": "stream",
     "text": [
      "git diff 0dc718e README.md\n"
     ]
    }
   ],
   "source": [
    "echo git diff ${temp_git_hash:0:7} README.md"
   ]
  },
  {
   "cell_type": "code",
   "execution_count": 32,
   "metadata": {},
   "outputs": [
    {
     "name": "stdout",
     "output_type": "stream",
     "text": [
      "\u001b[1mdiff --git a/README.md b/README.md\u001b[m\n",
      "\u001b[1mindex 6c152b7..550da4d 100644\u001b[m\n",
      "\u001b[1m--- a/README.md\u001b[m\n",
      "\u001b[1m+++ b/README.md\u001b[m\n",
      "\u001b[36m@@ -2,3 +2,6 @@\u001b[m\n",
      " \u001b[m\n",
      " - `init`: initialize a git repository at the current working directory\u001b[m\n",
      " - `status`: look at the status of the repository\u001b[m\n",
      "\u001b[32m+\u001b[m\u001b[32m- `add`: add files to staging area\u001b[m\n",
      "\u001b[32m+\u001b[m\u001b[32m- `commit`: commit files from staging area\u001b[m\n",
      "\u001b[32m+\u001b[m\u001b[32m- `diff`: look at the differences between commits\u001b[m\n"
     ]
    }
   ],
   "source": [
    "git diff ${temp_git_hash:0:7} README.md"
   ]
  },
  {
   "cell_type": "code",
   "execution_count": null,
   "metadata": {},
   "outputs": [],
   "source": [
    "would give use the same results"
   ]
  },
  {
   "cell_type": "markdown",
   "metadata": {},
   "source": [
    "# Undoing current work"
   ]
  },
  {
   "cell_type": "markdown",
   "metadata": {},
   "source": [
    "Let's update our `README.md` file"
   ]
  },
  {
   "cell_type": "code",
   "execution_count": 34,
   "metadata": {},
   "outputs": [
    {
     "name": "stdout",
     "output_type": "stream",
     "text": [
      "  - `diff --staged`: used to diff files that are in the staging area\n",
      "- `log`: prints out the commits in reverse chronological order\n",
      "  - `log --oneline`: gives us a simplified one line view of the log\n",
      "`HEAD`: tells us where we are in our git history\n"
     ]
    }
   ],
   "source": [
    "cat $git_book_src_directory/02-history/02-diff_log_head.txt"
   ]
  },
  {
   "cell_type": "code",
   "execution_count": 35,
   "metadata": {},
   "outputs": [],
   "source": [
    "cat $git_book_src_directory/02-history/02-diff_log_head.txt >> README.md"
   ]
  },
  {
   "cell_type": "code",
   "execution_count": 36,
   "metadata": {},
   "outputs": [
    {
     "name": "stdout",
     "output_type": "stream",
     "text": [
      "# Git lesson\n",
      "\n",
      "- `init`: initialize a git repository at the current working directory\n",
      "- `status`: look at the status of the repository\n",
      "- `add`: add files to staging area\n",
      "- `commit`: commit files from staging area\n",
      "- `diff`: look at the differences between commits\n",
      "  - `diff --staged`: used to diff files that are in the staging area\n",
      "- `log`: prints out the commits in reverse chronological order\n",
      "  - `log --oneline`: gives us a simplified one line view of the log\n",
      "`HEAD`: tells us where we are in our git history\n"
     ]
    }
   ],
   "source": [
    "cat README.md"
   ]
  },
  {
   "cell_type": "code",
   "execution_count": 38,
   "metadata": {},
   "outputs": [
    {
     "name": "stdout",
     "output_type": "stream",
     "text": [
      "\u001b[1mdiff --git a/README.md b/README.md\u001b[m\n",
      "\u001b[1mindex 550da4d..efd1e1d 100644\u001b[m\n",
      "\u001b[1m--- a/README.md\u001b[m\n",
      "\u001b[1m+++ b/README.md\u001b[m\n",
      "\u001b[36m@@ -5,3 +5,7 @@\u001b[m\n",
      " - `add`: add files to staging area\u001b[m\n",
      " - `commit`: commit files from staging area\u001b[m\n",
      " - `diff`: look at the differences between commits\u001b[m\n",
      "\u001b[32m+\u001b[m\u001b[32m  - `diff --staged`: used to diff files that are in the staging area\u001b[m\n",
      "\u001b[32m+\u001b[m\u001b[32m- `log`: prints out the commits in reverse chronological order\u001b[m\n",
      "\u001b[32m+\u001b[m\u001b[32m  - `log --oneline`: gives us a simplified one line view of the log\u001b[m\n",
      "\u001b[32m+\u001b[m\u001b[32m`HEAD`: tells us where we are in our git history\u001b[m\n"
     ]
    }
   ],
   "source": [
    "git diff"
   ]
  },
  {
   "cell_type": "code",
   "execution_count": 39,
   "metadata": {},
   "outputs": [
    {
     "name": "stdout",
     "output_type": "stream",
     "text": [
      "On branch master\n",
      "Changes not staged for commit:\n",
      "  (use \"git add <file>...\" to update what will be committed)\n",
      "  (use \"git checkout -- <file>...\" to discard changes in working directory)\n",
      "\n",
      "\t\u001b[31mmodified:   README.md\u001b[m\n",
      "\n",
      "no changes added to commit (use \"git add\" and/or \"git commit -a\")\n"
     ]
    }
   ],
   "source": [
    "git status"
   ]
  },
  {
   "cell_type": "markdown",
   "metadata": {},
   "source": [
    "Status let's you know how you can throw away changes you don't like by using `git checkout -- <file>`.\n",
    "\n",
    "You can also use `git reset --hard` to completly throw away everything and go back to your last commited state.\n",
    "\n",
    "Here's a link that talks about the differences between using `checkout`, `reset`, and `revert` to undo changes:\n",
    "https://dev.to/neshaz/when-to-use-git-reset-git-revert--git-checkout-18je\n"
   ]
  },
  {
   "cell_type": "markdown",
   "metadata": {},
   "source": [
    "For now let's add/commit these changes."
   ]
  },
  {
   "cell_type": "code",
   "execution_count": 42,
   "metadata": {},
   "outputs": [
    {
     "name": "stdout",
     "output_type": "stream",
     "text": [
      "[master 2dd8b65] diff --staged, log + --oneline, HEAD notes\n",
      " 1 file changed, 4 insertions(+)\n"
     ]
    }
   ],
   "source": [
    "git add README.md\n",
    "git commit -m \"diff --staged, log + --oneline, HEAD notes\""
   ]
  },
  {
   "cell_type": "code",
   "execution_count": 43,
   "metadata": {},
   "outputs": [
    {
     "name": "stdout",
     "output_type": "stream",
     "text": [
      "On branch master\n",
      "nothing to commit, working tree clean\n"
     ]
    }
   ],
   "source": [
    "git status"
   ]
  },
  {
   "cell_type": "markdown",
   "metadata": {},
   "source": [
    "# Reverting files from history"
   ]
  },
  {
   "cell_type": "code",
   "execution_count": 44,
   "metadata": {},
   "outputs": [
    {
     "name": "stdout",
     "output_type": "stream",
     "text": [
      "\u001b[33m2dd8b65\u001b[m\u001b[33m (\u001b[m\u001b[1;36mHEAD -> \u001b[m\u001b[1;32mmaster\u001b[m\u001b[33m)\u001b[m diff --staged, log + --oneline, HEAD notes\n",
      "\u001b[33m0c02e4b\u001b[m git diff\n",
      "\u001b[33m06170bc\u001b[m notes for add and commit\n",
      "\u001b[33m0dc718e\u001b[m First commit showing init and status\n"
     ]
    }
   ],
   "source": [
    "git log --oneline"
   ]
  },
  {
   "cell_type": "code",
   "execution_count": 45,
   "metadata": {},
   "outputs": [
    {
     "name": "stdout",
     "output_type": "stream",
     "text": [
      "0dc718e\n"
     ]
    }
   ],
   "source": [
    "temp_git_hash=`git rev-parse HEAD~3`\n",
    "echo ${temp_git_hash:0:7}"
   ]
  },
  {
   "cell_type": "code",
   "execution_count": 53,
   "metadata": {},
   "outputs": [
    {
     "name": "stdout",
     "output_type": "stream",
     "text": [
      "git checkout 0dc718e README.md\n"
     ]
    }
   ],
   "source": [
    "echo git checkout ${temp_git_hash:0:7} README.md"
   ]
  },
  {
   "cell_type": "code",
   "execution_count": 54,
   "metadata": {},
   "outputs": [],
   "source": [
    "git checkout ${temp_git_hash:0:7} README.md"
   ]
  },
  {
   "cell_type": "code",
   "execution_count": 55,
   "metadata": {},
   "outputs": [
    {
     "name": "stdout",
     "output_type": "stream",
     "text": [
      "On branch master\n",
      "Changes to be committed:\n",
      "  (use \"git reset HEAD <file>...\" to unstage)\n",
      "\n",
      "\t\u001b[32mmodified:   README.md\u001b[m\n",
      "\n"
     ]
    }
   ],
   "source": [
    "git status"
   ]
  },
  {
   "cell_type": "code",
   "execution_count": 56,
   "metadata": {},
   "outputs": [
    {
     "name": "stdout",
     "output_type": "stream",
     "text": [
      "# Git lesson\n",
      "\n",
      "- `init`: initialize a git repository at the current working directory\n",
      "- `status`: look at the status of the repository\n"
     ]
    }
   ],
   "source": [
    "cat README.md"
   ]
  },
  {
   "cell_type": "code",
   "execution_count": 57,
   "metadata": {},
   "outputs": [
    {
     "name": "stdout",
     "output_type": "stream",
     "text": [
      "\u001b[33m2dd8b65\u001b[m\u001b[33m (\u001b[m\u001b[1;36mHEAD -> \u001b[m\u001b[1;32mmaster\u001b[m\u001b[33m)\u001b[m diff --staged, log + --oneline, HEAD notes\n",
      "\u001b[33m0c02e4b\u001b[m git diff\n",
      "\u001b[33m06170bc\u001b[m notes for add and commit\n",
      "\u001b[33m0dc718e\u001b[m First commit showing init and status\n"
     ]
    }
   ],
   "source": [
    "git log --oneline"
   ]
  },
  {
   "cell_type": "code",
   "execution_count": 58,
   "metadata": {},
   "outputs": [
    {
     "name": "stdout",
     "output_type": "stream",
     "text": [
      "HEAD is now at 2dd8b65 diff --staged, log + --oneline, HEAD notes\n"
     ]
    }
   ],
   "source": [
    "git reset --hard"
   ]
  },
  {
   "cell_type": "markdown",
   "metadata": {},
   "source": [
    "# Undeleting files from history"
   ]
  },
  {
   "cell_type": "code",
   "execution_count": 69,
   "metadata": {},
   "outputs": [
    {
     "name": "stdout",
     "output_type": "stream",
     "text": [
      "On branch master\n",
      "nothing to commit, working tree clean\n"
     ]
    }
   ],
   "source": [
    "git status"
   ]
  },
  {
   "cell_type": "code",
   "execution_count": 70,
   "metadata": {},
   "outputs": [
    {
     "name": "stdout",
     "output_type": "stream",
     "text": [
      "\u001b[33m2dd8b65\u001b[m\u001b[33m (\u001b[m\u001b[1;36mHEAD -> \u001b[m\u001b[1;32mmaster\u001b[m\u001b[33m)\u001b[m diff --staged, log + --oneline, HEAD notes\n",
      "\u001b[33m0c02e4b\u001b[m git diff\n",
      "\u001b[33m06170bc\u001b[m notes for add and commit\n",
      "\u001b[33m0dc718e\u001b[m First commit showing init and status\n"
     ]
    }
   ],
   "source": [
    "git log --oneline"
   ]
  },
  {
   "cell_type": "code",
   "execution_count": 71,
   "metadata": {},
   "outputs": [],
   "source": [
    "rm README.md"
   ]
  },
  {
   "cell_type": "code",
   "execution_count": 72,
   "metadata": {},
   "outputs": [
    {
     "name": "stdout",
     "output_type": "stream",
     "text": [
      "On branch master\n",
      "Changes not staged for commit:\n",
      "  (use \"git add/rm <file>...\" to update what will be committed)\n",
      "  (use \"git checkout -- <file>...\" to discard changes in working directory)\n",
      "\n",
      "\t\u001b[31mdeleted:    README.md\u001b[m\n",
      "\n",
      "no changes added to commit (use \"git add\" and/or \"git commit -a\")\n"
     ]
    }
   ],
   "source": [
    "git status"
   ]
  },
  {
   "cell_type": "code",
   "execution_count": 73,
   "metadata": {},
   "outputs": [],
   "source": [
    "git checkout -- README.md"
   ]
  },
  {
   "cell_type": "code",
   "execution_count": 74,
   "metadata": {},
   "outputs": [
    {
     "name": "stdout",
     "output_type": "stream",
     "text": [
      "On branch master\n",
      "nothing to commit, working tree clean\n"
     ]
    }
   ],
   "source": [
    "git status"
   ]
  },
  {
   "cell_type": "code",
   "execution_count": 75,
   "metadata": {},
   "outputs": [
    {
     "name": "stdout",
     "output_type": "stream",
     "text": [
      "HEAD is now at 2dd8b65 diff --staged, log + --oneline, HEAD notes\n"
     ]
    }
   ],
   "source": [
    "rm README.md\n",
    "git reset --hard"
   ]
  },
  {
   "cell_type": "code",
   "execution_count": 76,
   "metadata": {},
   "outputs": [
    {
     "name": "stdout",
     "output_type": "stream",
     "text": [
      "On branch master\n",
      "nothing to commit, working tree clean\n"
     ]
    }
   ],
   "source": [
    "git status"
   ]
  },
  {
   "cell_type": "code",
   "execution_count": 78,
   "metadata": {},
   "outputs": [
    {
     "name": "stdout",
     "output_type": "stream",
     "text": [
      "total 1\n",
      "-rw-rw-rw- 1 root root 511 Dec 11 00:25 README.md\n"
     ]
    }
   ],
   "source": [
    "ls -l"
   ]
  },
  {
   "cell_type": "markdown",
   "metadata": {},
   "source": [
    "# Detached HEAD"
   ]
  },
  {
   "cell_type": "code",
   "execution_count": 59,
   "metadata": {},
   "outputs": [
    {
     "name": "stdout",
     "output_type": "stream",
     "text": [
      "git checkout 0dc718e\n"
     ]
    }
   ],
   "source": [
    "echo git checkout ${temp_git_hash:0:7}"
   ]
  },
  {
   "cell_type": "code",
   "execution_count": 60,
   "metadata": {},
   "outputs": [
    {
     "name": "stdout",
     "output_type": "stream",
     "text": [
      "Note: checking out '0dc718e'.\n",
      "\n",
      "You are in 'detached HEAD' state. You can look around, make experimental\n",
      "changes and commit them, and you can discard any commits you make in this\n",
      "state without impacting any branches by performing another checkout.\n",
      "\n",
      "If you want to create a new branch to retain commits you create, you may\n",
      "do so (now or later) by using -b with the checkout command again. Example:\n",
      "\n",
      "  git checkout -b <new-branch-name>\n",
      "\n",
      "HEAD is now at 0dc718e First commit showing init and status\n"
     ]
    }
   ],
   "source": [
    " git checkout ${temp_git_hash:0:7}"
   ]
  },
  {
   "cell_type": "code",
   "execution_count": 61,
   "metadata": {},
   "outputs": [
    {
     "name": "stdout",
     "output_type": "stream",
     "text": [
      "\u001b[31mHEAD detached at \u001b[m0dc718e\n",
      "nothing to commit, working tree clean\n"
     ]
    }
   ],
   "source": [
    "git status"
   ]
  },
  {
   "cell_type": "code",
   "execution_count": 62,
   "metadata": {},
   "outputs": [
    {
     "name": "stdout",
     "output_type": "stream",
     "text": [
      "\u001b[33mcommit 0dc718ea19699f2c94425e643c7a9923c976c8b9\u001b[m\u001b[33m (\u001b[m\u001b[1;36mHEAD\u001b[m\u001b[33m)\u001b[m\n",
      "Author: Daniel Chen <chendaniely@gmail.com>\n",
      "Date:   Tue Dec 10 23:07:05 2019 -0500\n",
      "\n",
      "    First commit showing init and status\n"
     ]
    }
   ],
   "source": [
    "git log"
   ]
  },
  {
   "cell_type": "code",
   "execution_count": 63,
   "metadata": {},
   "outputs": [
    {
     "name": "stdout",
     "output_type": "stream",
     "text": [
      "\u001b[33m2dd8b65\u001b[m\u001b[33m (\u001b[m\u001b[1;32mmaster\u001b[m\u001b[33m)\u001b[m diff --staged, log + --oneline, HEAD notes\n",
      "\u001b[33m0c02e4b\u001b[m git diff\n",
      "\u001b[33m06170bc\u001b[m notes for add and commit\n",
      "\u001b[33m0dc718e\u001b[m\u001b[33m (\u001b[m\u001b[1;36mHEAD\u001b[m\u001b[33m)\u001b[m First commit showing init and status\n"
     ]
    }
   ],
   "source": [
    "git log --oneline --all"
   ]
  },
  {
   "cell_type": "code",
   "execution_count": 64,
   "metadata": {},
   "outputs": [
    {
     "name": "stdout",
     "output_type": "stream",
     "text": [
      "Previous HEAD position was 0dc718e First commit showing init and status\n",
      "Switched to branch 'master'\n"
     ]
    }
   ],
   "source": [
    "git checkout master"
   ]
  },
  {
   "cell_type": "code",
   "execution_count": 65,
   "metadata": {},
   "outputs": [
    {
     "name": "stdout",
     "output_type": "stream",
     "text": [
      "On branch master\n",
      "nothing to commit, working tree clean\n"
     ]
    }
   ],
   "source": [
    "git status"
   ]
  },
  {
   "cell_type": "code",
   "execution_count": 67,
   "metadata": {},
   "outputs": [
    {
     "name": "stdout",
     "output_type": "stream",
     "text": [
      "\u001b[33m2dd8b65\u001b[m\u001b[33m (\u001b[m\u001b[1;36mHEAD -> \u001b[m\u001b[1;32mmaster\u001b[m\u001b[33m)\u001b[m diff --staged, log + --oneline, HEAD notes\n",
      "\u001b[33m0c02e4b\u001b[m git diff\n",
      "\u001b[33m06170bc\u001b[m notes for add and commit\n",
      "\u001b[33m0dc718e\u001b[m First commit showing init and status\n"
     ]
    }
   ],
   "source": [
    "git log --oneline"
   ]
  },
  {
   "cell_type": "markdown",
   "metadata": {},
   "source": [
    "# Exercise"
   ]
  },
  {
   "cell_type": "markdown",
   "metadata": {},
   "source": [
    "Add notes for\n",
    "\n",
    "- `log --oneline --all`\n",
    "- `checkout`\n",
    "  - `checkout <HASH> <FILE>`\n",
    "  - `checkout <HASH>: moves `HEAD`\n",
    "  - `checkout <branch>`\n",
    "- `reset --hard`\n",
    "\n",
    "Add/commit changes\n",
    "\n",
    "- delete the README.md file and undelete it\n",
    "- revert the readme file to the first commit, and then revert it back to the commit we just did.\n",
    "  - hint: this should cause 2 new commits in the history"
   ]
  },
  {
   "cell_type": "code",
   "execution_count": 80,
   "metadata": {},
   "outputs": [],
   "source": [
    "match=\"  - \\`log --oneline\\`: gives us a simplified one line view of the log\"\n",
    "insert=\"  - \\`log --oneline --all\\`: simplified view of log with all commits\"\n",
    "sed -i \"s/$match/$match\\n$insert/\" README.md"
   ]
  },
  {
   "cell_type": "code",
   "execution_count": 81,
   "metadata": {},
   "outputs": [
    {
     "name": "stdout",
     "output_type": "stream",
     "text": [
      "# Git lesson\n",
      "\n",
      "- `init`: initialize a git repository at the current working directory\n",
      "- `status`: look at the status of the repository\n",
      "- `add`: add files to staging area\n",
      "- `commit`: commit files from staging area\n",
      "- `diff`: look at the differences between commits\n",
      "  - `diff --staged`: used to diff files that are in the staging area\n",
      "- `log`: prints out the commits in reverse chronological order\n",
      "  - `log --oneline`: gives us a simplified one line view of the log\n",
      "  - `log --oneline --all`: simplified view of log with all commits\n",
      "`HEAD`: tells us where we are in our git history\n"
     ]
    }
   ],
   "source": [
    "cat README.md"
   ]
  },
  {
   "cell_type": "code",
   "execution_count": 85,
   "metadata": {},
   "outputs": [
    {
     "name": "stdout",
     "output_type": "stream",
     "text": [
      "- `log --oneline --all`: simplified view of log with all commits\n"
     ]
    }
   ],
   "source": [
    "echo $insert"
   ]
  },
  {
   "cell_type": "code",
   "execution_count": 83,
   "metadata": {},
   "outputs": [
    {
     "name": "stdout",
     "output_type": "stream",
     "text": [
      "- `checkout`: moves `HEAD` around\n",
      "  - `checkout <HASH> <FILE>`: reverts <FILE> to the version in <HASH>\n",
      "  - `checkout <HASH>: moves `HEAD` to <HASH> and leaves you in detatched HEAD state\n",
      "  - `checkout <branch>`: moves `HEAD` to the beginning of <branch>\n",
      "- `reset --hard`: throws away all your changes and puts you back at your last commit\n",
      "  - `reset --hard <HASH>`: can also be used to put you back at a specific commit\n"
     ]
    }
   ],
   "source": [
    "cat $git_book_src_directory/02-history/10-exercise-checkout_reset.txt"
   ]
  },
  {
   "cell_type": "code",
   "execution_count": 86,
   "metadata": {},
   "outputs": [],
   "source": [
    "cat $git_book_src_directory/02-history/10-exercise-checkout_reset.txt >> README.md"
   ]
  },
  {
   "cell_type": "code",
   "execution_count": 87,
   "metadata": {},
   "outputs": [
    {
     "name": "stdout",
     "output_type": "stream",
     "text": [
      "On branch master\n",
      "Changes not staged for commit:\n",
      "  (use \"git add <file>...\" to update what will be committed)\n",
      "  (use \"git checkout -- <file>...\" to discard changes in working directory)\n",
      "\n",
      "\t\u001b[31mmodified:   README.md\u001b[m\n",
      "\n",
      "no changes added to commit (use \"git add\" and/or \"git commit -a\")\n"
     ]
    }
   ],
   "source": [
    "git status"
   ]
  },
  {
   "cell_type": "code",
   "execution_count": 88,
   "metadata": {},
   "outputs": [
    {
     "name": "stdout",
     "output_type": "stream",
     "text": [
      "\u001b[1mdiff --git a/README.md b/README.md\u001b[m\n",
      "\u001b[1mindex efd1e1d..471627c 100644\u001b[m\n",
      "\u001b[1m--- a/README.md\u001b[m\n",
      "\u001b[1m+++ b/README.md\u001b[m\n",
      "\u001b[36m@@ -8,4 +8,11 @@\u001b[m\n",
      "   - `diff --staged`: used to diff files that are in the staging area\u001b[m\n",
      " - `log`: prints out the commits in reverse chronological order\u001b[m\n",
      "   - `log --oneline`: gives us a simplified one line view of the log\u001b[m\n",
      "\u001b[32m+\u001b[m\u001b[32m  - `log --oneline --all`: simplified view of log with all commits\u001b[m\n",
      " `HEAD`: tells us where we are in our git history\u001b[m\n",
      "\u001b[32m+\u001b[m\u001b[32m- `checkout`: moves `HEAD` around\u001b[m\n",
      "\u001b[32m+\u001b[m\u001b[32m  - `checkout <HASH> <FILE>`: reverts <FILE> to the version in <HASH>\u001b[m\n",
      "\u001b[32m+\u001b[m\u001b[32m  - `checkout <HASH>: moves `HEAD` to <HASH> and leaves you in detatched HEAD state\u001b[m\n",
      "\u001b[32m+\u001b[m\u001b[32m  - `checkout <branch>`: moves `HEAD` to the beginning of <branch>\u001b[m\n",
      "\u001b[32m+\u001b[m\u001b[32m- `reset --hard`: throws away all your changes and puts you back at your last commit\u001b[m\n",
      "\u001b[32m+\u001b[m\u001b[32m  - `reset --hard <HASH>`: can also be used to put you back at a specific commit\u001b[m\n"
     ]
    }
   ],
   "source": [
    "git diff"
   ]
  },
  {
   "cell_type": "code",
   "execution_count": 89,
   "metadata": {},
   "outputs": [],
   "source": [
    "git add README.md"
   ]
  },
  {
   "cell_type": "code",
   "execution_count": 90,
   "metadata": {},
   "outputs": [
    {
     "name": "stdout",
     "output_type": "stream",
     "text": [
      "[master 6346e9f] log oneline all, checkout, reset\n",
      " 1 file changed, 7 insertions(+)\n"
     ]
    }
   ],
   "source": [
    "git commit -m \"log oneline all, checkout, reset\""
   ]
  },
  {
   "cell_type": "code",
   "execution_count": 91,
   "metadata": {},
   "outputs": [
    {
     "name": "stdout",
     "output_type": "stream",
     "text": [
      "On branch master\n",
      "nothing to commit, working tree clean\n"
     ]
    }
   ],
   "source": [
    "git status"
   ]
  },
  {
   "cell_type": "code",
   "execution_count": 92,
   "metadata": {},
   "outputs": [],
   "source": [
    "rm README.md"
   ]
  },
  {
   "cell_type": "code",
   "execution_count": 93,
   "metadata": {},
   "outputs": [
    {
     "name": "stdout",
     "output_type": "stream",
     "text": [
      "On branch master\n",
      "Changes not staged for commit:\n",
      "  (use \"git add/rm <file>...\" to update what will be committed)\n",
      "  (use \"git checkout -- <file>...\" to discard changes in working directory)\n",
      "\n",
      "\t\u001b[31mdeleted:    README.md\u001b[m\n",
      "\n",
      "no changes added to commit (use \"git add\" and/or \"git commit -a\")\n"
     ]
    }
   ],
   "source": [
    "git status"
   ]
  },
  {
   "cell_type": "code",
   "execution_count": 94,
   "metadata": {},
   "outputs": [
    {
     "name": "stdout",
     "output_type": "stream",
     "text": [
      "HEAD is now at 6346e9f log oneline all, checkout, reset\n"
     ]
    }
   ],
   "source": [
    "git reset --hard"
   ]
  },
  {
   "cell_type": "code",
   "execution_count": 95,
   "metadata": {},
   "outputs": [
    {
     "name": "stdout",
     "output_type": "stream",
     "text": [
      "\u001b[33m6346e9f\u001b[m\u001b[33m (\u001b[m\u001b[1;36mHEAD -> \u001b[m\u001b[1;32mmaster\u001b[m\u001b[33m)\u001b[m log oneline all, checkout, reset\n",
      "\u001b[33m2dd8b65\u001b[m diff --staged, log + --oneline, HEAD notes\n",
      "\u001b[33m0c02e4b\u001b[m git diff\n",
      "\u001b[33m06170bc\u001b[m notes for add and commit\n",
      "\u001b[33m0dc718e\u001b[m First commit showing init and status\n"
     ]
    }
   ],
   "source": [
    "git log --oneline --all"
   ]
  },
  {
   "cell_type": "code",
   "execution_count": 96,
   "metadata": {},
   "outputs": [
    {
     "name": "stdout",
     "output_type": "stream",
     "text": [
      "0dc718e\n"
     ]
    }
   ],
   "source": [
    "temp_git_hash=`git rev-parse HEAD~4`\n",
    "echo ${temp_git_hash:0:7}"
   ]
  },
  {
   "cell_type": "code",
   "execution_count": 97,
   "metadata": {},
   "outputs": [
    {
     "name": "stdout",
     "output_type": "stream",
     "text": [
      "git checkout 0dc718e README.md\n"
     ]
    }
   ],
   "source": [
    "echo git checkout ${temp_git_hash:0:7} README.md"
   ]
  },
  {
   "cell_type": "code",
   "execution_count": 98,
   "metadata": {},
   "outputs": [],
   "source": [
    "git checkout ${temp_git_hash:0:7} README.md"
   ]
  },
  {
   "cell_type": "code",
   "execution_count": 99,
   "metadata": {},
   "outputs": [
    {
     "name": "stdout",
     "output_type": "stream",
     "text": [
      "On branch master\n",
      "Changes to be committed:\n",
      "  (use \"git reset HEAD <file>...\" to unstage)\n",
      "\n",
      "\t\u001b[32mmodified:   README.md\u001b[m\n",
      "\n"
     ]
    }
   ],
   "source": [
    "git status"
   ]
  },
  {
   "cell_type": "code",
   "execution_count": 100,
   "metadata": {},
   "outputs": [],
   "source": [
    "git add README.md"
   ]
  },
  {
   "cell_type": "code",
   "execution_count": 101,
   "metadata": {},
   "outputs": [
    {
     "name": "stdout",
     "output_type": "stream",
     "text": [
      "[master caa86b8] revert README to first commit\n",
      " 1 file changed, 4 insertions(+), 18 deletions(-)\n",
      " rewrite README.md (86%)\n"
     ]
    }
   ],
   "source": [
    "git commit -m \"revert README to first commit\""
   ]
  },
  {
   "cell_type": "code",
   "execution_count": 102,
   "metadata": {},
   "outputs": [
    {
     "name": "stdout",
     "output_type": "stream",
     "text": [
      "On branch master\n",
      "nothing to commit, working tree clean\n"
     ]
    }
   ],
   "source": [
    "git status"
   ]
  },
  {
   "cell_type": "code",
   "execution_count": 103,
   "metadata": {},
   "outputs": [
    {
     "name": "stdout",
     "output_type": "stream",
     "text": [
      "\u001b[33mcaa86b8\u001b[m\u001b[33m (\u001b[m\u001b[1;36mHEAD -> \u001b[m\u001b[1;32mmaster\u001b[m\u001b[33m)\u001b[m revert README to first commit\n",
      "\u001b[33m6346e9f\u001b[m log oneline all, checkout, reset\n",
      "\u001b[33m2dd8b65\u001b[m diff --staged, log + --oneline, HEAD notes\n",
      "\u001b[33m0c02e4b\u001b[m git diff\n",
      "\u001b[33m06170bc\u001b[m notes for add and commit\n",
      "\u001b[33m0dc718e\u001b[m First commit showing init and status\n"
     ]
    }
   ],
   "source": [
    "git log --oneline"
   ]
  },
  {
   "cell_type": "code",
   "execution_count": 104,
   "metadata": {},
   "outputs": [
    {
     "name": "stdout",
     "output_type": "stream",
     "text": [
      "6346e9f\n"
     ]
    }
   ],
   "source": [
    "temp_git_hash=`git rev-parse HEAD~1`\n",
    "echo ${temp_git_hash:0:7}"
   ]
  },
  {
   "cell_type": "code",
   "execution_count": 105,
   "metadata": {},
   "outputs": [
    {
     "name": "stdout",
     "output_type": "stream",
     "text": [
      "git checkout 6346e9f README.md\n"
     ]
    }
   ],
   "source": [
    "echo git checkout ${temp_git_hash:0:7} README.md"
   ]
  },
  {
   "cell_type": "code",
   "execution_count": 106,
   "metadata": {},
   "outputs": [],
   "source": [
    "git checkout ${temp_git_hash:0:7} README.md"
   ]
  },
  {
   "cell_type": "code",
   "execution_count": 107,
   "metadata": {},
   "outputs": [],
   "source": [
    "git add README.md"
   ]
  },
  {
   "cell_type": "code",
   "execution_count": 108,
   "metadata": {},
   "outputs": [
    {
     "name": "stdout",
     "output_type": "stream",
     "text": [
      "[master cb23d97] undo revert to first commit\n",
      " 1 file changed, 14 insertions(+)\n"
     ]
    }
   ],
   "source": [
    "git commit -m \"undo revert to first commit\""
   ]
  },
  {
   "cell_type": "code",
   "execution_count": 109,
   "metadata": {},
   "outputs": [
    {
     "name": "stdout",
     "output_type": "stream",
     "text": [
      "On branch master\n",
      "nothing to commit, working tree clean\n"
     ]
    }
   ],
   "source": [
    "git status"
   ]
  },
  {
   "cell_type": "code",
   "execution_count": 110,
   "metadata": {},
   "outputs": [
    {
     "name": "stdout",
     "output_type": "stream",
     "text": [
      "\u001b[33mcb23d97\u001b[m\u001b[33m (\u001b[m\u001b[1;36mHEAD -> \u001b[m\u001b[1;32mmaster\u001b[m\u001b[33m)\u001b[m undo revert to first commit\n",
      "\u001b[33mcaa86b8\u001b[m revert README to first commit\n",
      "\u001b[33m6346e9f\u001b[m log oneline all, checkout, reset\n",
      "\u001b[33m2dd8b65\u001b[m diff --staged, log + --oneline, HEAD notes\n",
      "\u001b[33m0c02e4b\u001b[m git diff\n",
      "\u001b[33m06170bc\u001b[m notes for add and commit\n",
      "\u001b[33m0dc718e\u001b[m First commit showing init and status\n"
     ]
    }
   ],
   "source": [
    "git log --oneline"
   ]
  },
  {
   "cell_type": "code",
   "execution_count": null,
   "metadata": {},
   "outputs": [],
   "source": []
  }
 ],
 "metadata": {
  "kernelspec": {
   "display_name": "Bash",
   "language": "bash",
   "name": "bash"
  },
  "language_info": {
   "codemirror_mode": "shell",
   "file_extension": ".sh",
   "mimetype": "text/x-sh",
   "name": "bash"
  }
 },
 "nbformat": 4,
 "nbformat_minor": 4
}
